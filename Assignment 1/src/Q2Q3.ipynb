{
 "cells": [
  {
   "cell_type": "markdown",
   "id": "f7797313-da2d-41f1-a4da-8cb728d12029",
   "metadata": {},
   "source": [
    "# Question 2\n",
    "\n",
    "Colin has just joined hogwarts and brought a muggle camera with him, He is very\n",
    "excited about all the magical things around him and wants to take many photos. But\n",
    "the problem, it has limited storage of 500 MB. You, as his friend, have to help him by\n",
    "doing the following task. Calculate the maximum dimensions of one image if colin wants\n",
    "to take 200 images back with him when he goes home for summer vacation. Assume all\n",
    "image shapes to be squares.\n",
    "Colin is very curious and expects explanations for all the steps you take for the above\n",
    "task, so explain each step with theoretical details."
   ]
  },
  {
   "cell_type": "markdown",
   "id": "a49ba13e-df5e-4902-9876-9e2364328d22",
   "metadata": {},
   "source": [
    "# Answer:"
   ]
  },
  {
   "cell_type": "markdown",
   "id": "74ee8d3a-2da6-45de-acd0-880ba2481037",
   "metadata": {},
   "source": [
    "Given,<br>\n",
    "    Storage limit = 500mb <br>\n",
    "    Total Images = 200<br>\n",
    "    No. of channels of RGB = 3<br>\n",
    "    So,<br>\n",
    "        <center>500x1024x1024 Bytes = 200.$x^{2}$.3</center>\n",
    "        <center>2.5x1024x1024/3 = $x^{2}$</center>\n",
    "        <center>x = 934.779831475</center>\n",
    "        <center>x = 934 approx to lower to accomodate all channels</center>"
   ]
  },
  {
   "cell_type": "markdown",
   "id": "17e31d8d-d514-4ae8-b52b-e37c058de1c1",
   "metadata": {},
   "source": [
    "# Question 3\n",
    "CCD Sensor dim = 10x10mm<br>\n",
    "Pixels = 1024 x 1024<br>\n",
    "Focal length = 43.5cm<br>\n",
    "Target height = 390pixels <br>\n",
    "Minimum distance = 240m<br>\n",
    "Find height of creature."
   ]
  },
  {
   "cell_type": "markdown",
   "id": "df8704f4-d711-40b7-9d96-1114606df36e",
   "metadata": {},
   "source": [
    "# Answer\n",
    "\n",
    "1 pixel height = 10/1024mm<br>\n",
    "So, <br>\n",
    "    <center>Image Height(i) = 390*(10/1024)mm<center>\n",
    "    <center>Image forms at focal length -> v = 43.5cm = 430mm<center>\n",
    "    <center>Height of creature = x mm <center>\n",
    "    <center>u = Object distance = 240m = 240*(1000)mm<center>\n",
    "    <center>object height = h<center>\n",
    "    <center>v/u = i/h<center>\n",
    "    <center>430/(240*1000) = 390*(10/1024)/h<center>\n",
    "    <center>h = 2125.726744186mm -> <b>h = 2.1257267441860002m<b><center>\n",
    "    \n",
    "    \n"
   ]
  }
 ],
 "metadata": {
  "kernelspec": {
   "display_name": "DIP",
   "language": "python",
   "name": "dip"
  },
  "language_info": {
   "codemirror_mode": {
    "name": "ipython",
    "version": 3
   },
   "file_extension": ".py",
   "mimetype": "text/x-python",
   "name": "python",
   "nbconvert_exporter": "python",
   "pygments_lexer": "ipython3",
   "version": "3.6.9"
  }
 },
 "nbformat": 4,
 "nbformat_minor": 5
}

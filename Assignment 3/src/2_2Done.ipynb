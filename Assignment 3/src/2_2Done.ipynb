{
 "cells": [
  {
   "cell_type": "markdown",
   "id": "cf3d5c86-549d-4abc-8771-edaf347a7118",
   "metadata": {},
   "source": [
    "# <b>Question 2.2</b>"
   ]
  },
  {
   "cell_type": "code",
   "execution_count": 1,
   "id": "f8d90400-b1bf-4662-909a-f99d92a2569f",
   "metadata": {},
   "outputs": [],
   "source": [
    "import cv2\n",
    "import numpy as np\n",
    "import matplotlib.pyplot as plt\n",
    "import math\n",
    "import time\n",
    "import sortedcontainers\n",
    "import copy\n",
    "%matplotlib inline"
   ]
  },
  {
   "cell_type": "markdown",
   "id": "0dc252e7-2afd-46fd-95b9-88cc6c272d59",
   "metadata": {},
   "source": [
    "### <b> Part 1 - How many objects have one or more holes?</b>"
   ]
  },
  {
   "cell_type": "code",
   "execution_count": 2,
   "id": "1030bc2a-f4a3-401d-a675-0dd0cc622402",
   "metadata": {},
   "outputs": [
    {
     "data": {
      "text/plain": [
       "<matplotlib.image.AxesImage at 0x7f25fc8b2f28>"
      ]
     },
     "execution_count": 2,
     "metadata": {},
     "output_type": "execute_result"
    },
    {
     "data": {
      "image/png": "[encoded data removed]",
      "text/plain": [
       "<Figure size 432x288 with 1 Axes>"
      ]
     },
     "metadata": {
      "needs_background": "light"
     },
     "output_type": "display_data"
    }
   ],
   "source": [
    "o = cv2.imread(\"../images/objects.png\")\n",
    "oG = cv2.cvtColor(o,cv2.COLOR_BGR2GRAY)\n",
    "plt.imshow(oG,cmap='gray')"
   ]
  },
  {
   "cell_type": "code",
   "execution_count": 3,
   "id": "097f941d-1a8f-4c40-91d2-673aee551e5d",
   "metadata": {},
   "outputs": [],
   "source": [
    "def padding(pic,k):\n",
    "    padNum = math.floor(k/2)\n",
    "    padPic = np.zeros((pic.shape[0]+(2*padNum),pic.shape[1]+(2*padNum)))\n",
    "    padPic[padNum:padPic.shape[0]-padNum, padNum:padPic.shape[1]-padNum] = pic\n",
    "    xStart = padNum\n",
    "    xEnd = padPic.shape[0]-padNum\n",
    "    yStart = padNum\n",
    "    yEnd = padPic.shape[1]-padNum\n",
    "    padPic[xStart:xEnd, yStart:yEnd] = pic\n",
    "    return padPic\n",
    "\n",
    "def dilate(img,k1,k2):\n",
    "    k = max(k1,k2)\n",
    "    padPic = padding(img,k)\n",
    "    out = np.zeros_like(padPic)\n",
    "    padNum = int(k/2)\n",
    "    xStart = padNum\n",
    "    xEnd = padPic.shape[0]-padNum\n",
    "    yStart = padNum\n",
    "    yEnd = padPic.shape[1]-padNum\n",
    "    StructE = np.ones((k1,k2),dtype='uint8')\n",
    "    for i in range(xStart,xEnd):\n",
    "        for j in range(yStart,yEnd):\n",
    "            vals = padPic[i-k1//2:i+k1//2+1,j-k2//2:j+k2//2+1]\n",
    "            vals = vals*StructE\n",
    "            out[i,j] = np.max(vals)\n",
    "    out = out[xStart:xEnd,yStart:yEnd]\n",
    "    return out\n",
    "\n",
    "\n",
    "def erode(img,k1,k2):\n",
    "    k = max(k1,k2)\n",
    "    padPic = padding(img,k)\n",
    "    out = np.zeros_like(padPic)\n",
    "    padNum = int(k/2)\n",
    "    xStart = padNum\n",
    "    xEnd = padPic.shape[0]-padNum\n",
    "    yStart = padNum\n",
    "    yEnd = padPic.shape[1]-padNum\n",
    "    StructE = np.ones((k1,k2),dtype='uint8')\n",
    "    for i in range(xStart,xEnd):\n",
    "        for j in range(yStart,yEnd):\n",
    "            vals = padPic[i-k1//2:i+k1//2+1,j-k2//2:j+k2//2+1]\n",
    "            vals = vals*StructE\n",
    "            out[i,j] = np.min(vals)\n",
    "    out = out[xStart:xEnd,yStart:yEnd]\n",
    "    return out"
   ]
  },
  {
   "cell_type": "code",
   "execution_count": 4,
   "id": "87f771ab-c504-44db-b55c-eb514f134563",
   "metadata": {},
   "outputs": [],
   "source": [
    "# def floodFillTwoPass(img):\n",
    "#     visit = np.zeros_like(img,dtype=np.int64)\n",
    "#     objC = 0\n",
    "#     r,c = img.shape\n",
    "#     for i in range(r):\n",
    "#         for j in range(c):\n",
    "#             #Initial row(means no top pixel)\n",
    "#             if i == 0:\n",
    "#                 #First pixel(means no left pixel -> create new label\n",
    "#                 if j == 0 and img[i,j] == 1:\n",
    "#                     objC+=1\n",
    "#                     visit[i,j] = objC\n",
    "#                 else:\n",
    "#                     #Check left pixel if it is part of foreground -> use prev label\n",
    "#                     if img[i,j-1] == 1 and img[i,j]==1:\n",
    "#                         visit[i,j] = visit[i,j-1]\n",
    "#                     #IF left pixel is not part of fg -> create new label\n",
    "#                     elif img[i,j]==1:\n",
    "#                         objC+=1\n",
    "#                         visit[i,j] = objC\n",
    "#             else:\n",
    "#                 #If upper pixel is filled -> use prev label\n",
    "#                 if img[i,j] ==1 and j==0 and img[i-1,j]==1:\n",
    "#                     print(\"hello\")\n",
    "#                     visit[i,j] = visit[i-1,j]\n",
    "#                 elif img[i,j]==1 and j==0:\n",
    "#                     objC+=1\n",
    "#                     visit[i,j] = objC\n",
    "#                 #Both top and left pixel then use minimum label value\n",
    "#                 elif img[i,j]==1 and img[i-1,j]==1 and img[i,j-1]==1:\n",
    "#                     l1 = visit[i-1,j]\n",
    "#                     l2 = visit[i,j-1]\n",
    "#                     lNew = min(l1,l2)\n",
    "#                     visit[i,j] = lNew\n",
    "#                 #Left and top background\n",
    "#                 elif img[i,j]==1 and img[i-1,j]==0 and img[i,j-1]==0:\n",
    "#                     objC+=1\n",
    "#                     visit[i,j]=objC\n",
    "#                 #Left is background and top is fg -> use prev pixel\n",
    "#                 elif img[i,j]==1 and img[i-1,j]==1 and img[i,j-1]==0:\n",
    "#                     visit[i,j] = visit[i-1,j]\n",
    "#                 elif img[i,j]==1 and img[i-1,j]==0 and img[i,j-1]==1:\n",
    "#                     visit[i,j] = visit[i,j-1]\n",
    "#     return objC,visit"
   ]
  },
  {
   "cell_type": "code",
   "execution_count": 5,
   "id": "b8da9b61-265a-402c-a711-4ece9f25bc22",
   "metadata": {},
   "outputs": [],
   "source": [
    "def filt(img,ker):\n",
    "    r = img.shape[0]\n",
    "    c = img.shape[1]\n",
    "    out = img.copy()\n",
    "    xS = 1\n",
    "    xE = img.shape[0] - 1\n",
    "    yS = 1\n",
    "    yE = img.shape[1] - 1\n",
    "    for i in range(xS,xE):\n",
    "        for j in range(yS,yE):\n",
    "            KxS = i - 1\n",
    "            KxE = i + 1\n",
    "            KyS = j - 1\n",
    "            KyE = j + 1\n",
    "            imgK = img[KxS:KxE+1,KyS:KyE+1]\n",
    "            present = 1\n",
    "            for a in range(3):\n",
    "                for b in range(3):\n",
    "                    if ker[a,b] == -1:\n",
    "                        continue\n",
    "                    elif ker[a,b] != imgK[a,b]:\n",
    "                        present = 0\n",
    "            if present == 1:\n",
    "                out[i,j] = 0\n",
    "    return out\n"
   ]
  },
  {
   "cell_type": "code",
   "execution_count": 6,
   "id": "cb54da7d-57b1-484d-a719-e3422e3a1c38",
   "metadata": {},
   "outputs": [],
   "source": [
    "def filtHitMiss(img,ker):\n",
    "    r = img.shape[0]\n",
    "    c = img.shape[1]\n",
    "    out = img.copy()\n",
    "    xS = 1\n",
    "    xE = img.shape[0] - 1\n",
    "    yS = 1\n",
    "    yE = img.shape[1] - 1\n",
    "    for i in range(xS,xE):\n",
    "        for j in range(yS,yE):\n",
    "            KxS = i - 1\n",
    "            KxE = i + 1\n",
    "            KyS = j - 1\n",
    "            KyE = j + 1\n",
    "            imgK = img[KxS:KxE+1,KyS:KyE+1]\n",
    "            if ((imgK == ker).all()):\n",
    "                out[i,j] = 1\n",
    "            else:\n",
    "                out[i,j] = 0\n",
    "#             present = 1\n",
    "#             for a in range(3):\n",
    "#                 for b in range(3):\n",
    "#                     if ker[a,b] == -1:\n",
    "#                         continue\n",
    "#                     elif ker[a,b] != imgK[a,b]:\n",
    "#                         present = 0\n",
    "#             if present == 1:\n",
    "#                 out[i,j] = 0\n",
    "    return out"
   ]
  },
  {
   "cell_type": "code",
   "execution_count": 7,
   "id": "cc1edf78-33d1-40c7-ab4c-f04a7a747caf",
   "metadata": {},
   "outputs": [],
   "source": [
    "def findRoot(ar, unionIt):\n",
    "    if unionIt[ar] == ar:\n",
    "        return ar\n",
    "    else:\n",
    "        unionIt[ar] = findRoot(unionIt[ar], unionIt)\n",
    "        return unionIt[ar]\n",
    "    \n",
    "def unionSet(ar1, ar2, unionIt):\n",
    "    val1 = findRoot(ar1,unionIt)\n",
    "    val2 = findRoot(ar2,unionIt)\n",
    "    minVal = min(val1,val2)\n",
    "    maxVal = max(val1,val2)\n",
    "    unionIt[maxVal] = minVal\n",
    "\n",
    "\n",
    "    \n",
    "    \n",
    "def connComponents(im):\n",
    "    next_label = 1;\n",
    "    labels = np.zeros(im.shape, dtype=int)\n",
    "    linked = [0]\n",
    "    h, w = im.shape\n",
    "    for row in range(h):\n",
    "        for column in range(w):\n",
    "            if im[row, column] != 0:\n",
    "                neighbors = []\n",
    "                if row > 0:\n",
    "                    if im[row-1][column] == im[row, column]:\n",
    "                        neighbors.append((row-1, column))\n",
    "                if row > 0 and column + 1 < im.shape[1]:\n",
    "                    if im[row-1, column+1] == im[row, column]:\n",
    "                        neighbors.append((row-1, column+1))\n",
    "                if row > 0 and column > 0:\n",
    "                    if im[row-1, column-1] == im[row, column]:\n",
    "                        neighbors.append((row-1, column-1))\n",
    "                if column > 0:\n",
    "                    if (im[row, column-1] == im[row, column]):\n",
    "                        neighbors.append((row, column-1))\n",
    "\n",
    "                if len(neighbors) == 0:\n",
    "                    linked.append(next_label)\n",
    "                    labels[row, column] = next_label\n",
    "                    next_label += 1\n",
    "                \n",
    "                else:\n",
    "                    L = [labels[r, c] for r, c in neighbors]\n",
    "                    labels[row, column] = min(L)\n",
    "                    for label in L:\n",
    "                        unionSet(label, labels[row, column], linked)\n",
    "                        \n",
    "    for row in range(im.shape[0]):\n",
    "        for column in range(im.shape[1]):\n",
    "            if im[row, column] != 0:\n",
    "                labels[row, column] = findRoot(labels[row, column], linked)\n",
    "    return labels\n"
   ]
  },
  {
   "cell_type": "code",
   "execution_count": 8,
   "id": "e57da207-9351-446c-bc62-a24b36c8ee15",
   "metadata": {},
   "outputs": [
    {
     "data": {
      "image/png": "[encoded data removed]",
      "text/plain": [
       "<Figure size 432x288 with 1 Axes>"
      ]
     },
     "metadata": {
      "needs_background": "light"
     },
     "output_type": "display_data"
    }
   ],
   "source": [
    "(T,binary_image)=cv2.threshold(oG,128,255,cv2.THRESH_BINARY)\n",
    "\n",
    "\n",
    "plt.imshow(binary_image,cmap='gray')\n",
    "plt.show()\n",
    "\n",
    "binary_image=binary_image//255"
   ]
  },
  {
   "cell_type": "code",
   "execution_count": 9,
   "id": "dd539927-ca71-40cb-a322-b838a3023075",
   "metadata": {},
   "outputs": [
    {
     "data": {
      "text/plain": [
       "<matplotlib.image.AxesImage at 0x7f25fc7464a8>"
      ]
     },
     "execution_count": 9,
     "metadata": {},
     "output_type": "execute_result"
    },
    {
     "data": {
      "image/png": "[encoded data removed]",
      "text/plain": [
       "<Figure size 432x288 with 1 Axes>"
      ]
     },
     "metadata": {
      "needs_background": "light"
     },
     "output_type": "display_data"
    }
   ],
   "source": [
    "n_binary_image=erode(dilate(binary_image,7,9),7,9)\n",
    "plt.imshow(n_binary_image,cmap='gray')"
   ]
  },
  {
   "cell_type": "code",
   "execution_count": 10,
   "id": "52140563-28a4-4be0-98bc-c6d30bc878b2",
   "metadata": {},
   "outputs": [
    {
     "data": {
      "text/plain": [
       "<matplotlib.image.AxesImage at 0x7f25fc6b0240>"
      ]
     },
     "execution_count": 10,
     "metadata": {},
     "output_type": "execute_result"
    },
    {
     "data": {
      "image/png": "[encoded data removed]",
      "text/plain": [
       "<Figure size 432x288 with 1 Axes>"
      ]
     },
     "metadata": {
      "needs_background": "light"
     },
     "output_type": "display_data"
    }
   ],
   "source": [
    "holePosition = dilate(erode(n_binary_image - binary_image,3,3),3,3)\n",
    "plt.imshow(holePosition,cmap='gray')"
   ]
  },
  {
   "cell_type": "code",
   "execution_count": null,
   "id": "648cc985-dca0-4357-972b-0dba9b28eba5",
   "metadata": {},
   "outputs": [],
   "source": []
  },
  {
   "cell_type": "code",
   "execution_count": 11,
   "id": "a2c72842-5353-437e-a144-748c3739ec05",
   "metadata": {},
   "outputs": [],
   "source": [
    "adjMatrix = np.zeros(binary_image.shape)\n",
    "r = binary_image.shape[0]\n",
    "c = binary_image.shape[1]\n",
    "\n",
    "countHimg = 0\n",
    "\n",
    "def dfsIter(img,i,j):\n",
    "    moveAround = np.array([[-1,0],  #Top\n",
    "                  [0,-1],           #Left\n",
    "                  [1,0],            #Down\n",
    "                  [0,1]])           #Right\n",
    "    for p in range(4):\n",
    "        indexR = i + moveAround[p][0]\n",
    "        indexC = j + moveAround[p][1]\n",
    "        if indexR>=0 and indexR<img.shape[0]:\n",
    "            if indexC>=0 and indexC<img.shape[1]:\n",
    "                if adjMatrix[indexR,indexC] == 0 and img[indexR,indexC] == 1:\n",
    "                    adjMatrix[indexR,indexC] = 1\n",
    "                    dfsIter(img,indexR,indexC)\n",
    "                    "
   ]
  },
  {
   "cell_type": "code",
   "execution_count": 12,
   "id": "3bd2d731-38fa-40d1-acda-e365dd1369f7",
   "metadata": {},
   "outputs": [],
   "source": [
    "for i in range(r):\n",
    "    for j in range(c):\n",
    "        if holePosition[i,j] == 1:\n",
    "            if adjMatrix[i,j] == 0:\n",
    "                countHimg +=1\n",
    "            else:\n",
    "                countHimg = countHimg\n",
    "            dfsIter(n_binary_image,i,j)"
   ]
  },
  {
   "cell_type": "code",
   "execution_count": 13,
   "id": "ea0b7aad-aa51-426d-a063-1f8cd696eaee",
   "metadata": {},
   "outputs": [],
   "source": [
    "onlyHoleFig = np.logical_and(binary_image,adjMatrix)"
   ]
  },
  {
   "cell_type": "code",
   "execution_count": 14,
   "id": "6712383e-8a33-488b-9005-a4282aa7e4e9",
   "metadata": {},
   "outputs": [
    {
     "name": "stdout",
     "output_type": "stream",
     "text": [
      "384\n"
     ]
    },
    {
     "data": {
      "image/png": "[encoded data removed]",
      "text/plain": [
       "<Figure size 648x648 with 1 Axes>"
      ]
     },
     "metadata": {
      "needs_background": "light"
     },
     "output_type": "display_data"
    }
   ],
   "source": [
    "fig,axs = plt.subplots(1, 1,figsize=(9,9))\n",
    "axs.imshow(onlyHoleFig,cmap='gray')\n",
    "axs.set_title('Hole-images')\n",
    "print(str(c))"
   ]
  },
  {
   "cell_type": "markdown",
   "id": "6dcc8024-3852-4cb6-8e9e-9be5c799f888",
   "metadata": {},
   "source": [
    "### <b>Squares</b>"
   ]
  },
  {
   "cell_type": "code",
   "execution_count": 15,
   "id": "08ebb51d-bb71-4f50-8c78-a981746cb27b",
   "metadata": {},
   "outputs": [
    {
     "name": "stdout",
     "output_type": "stream",
     "text": [
      "1\n",
      "[1 1 1 1 1 1 1 1 1 1 1]\n",
      "(331, 384)\n"
     ]
    }
   ],
   "source": [
    "rectFilter = [[0,0,0],\n",
    "              [1,  1,0],\n",
    "              [1,  1,0]]\n",
    "rectFilter = np.array(rectFilter)\n",
    "applySq = filtHitMiss(binary_image,rectFilter)\n",
    "count_Sq = 0\n",
    "print(np.max(applySq))\n",
    "print(applySq[applySq==1])\n",
    "print(applySq.shape)"
   ]
  },
  {
   "cell_type": "code",
   "execution_count": 16,
   "id": "feac8db6-15e2-46c9-ae68-18d7bd63d57b",
   "metadata": {},
   "outputs": [
    {
     "name": "stdout",
     "output_type": "stream",
     "text": [
      "331 384\n"
     ]
    }
   ],
   "source": [
    "adjMatrix = np.zeros(binary_image.shape)\n",
    "r = applySq.shape[0]\n",
    "c = applySq.shape[1]\n",
    "print(r,c)"
   ]
  },
  {
   "cell_type": "code",
   "execution_count": 17,
   "id": "26139c25-9401-45d5-840c-f435547fbefd",
   "metadata": {},
   "outputs": [],
   "source": [
    "for i in range(r):\n",
    "    for j in range(c):\n",
    "        if applySq[i][j] == 1:\n",
    "            count_Sq += (adjMatrix[i][j] == 0)\n",
    "            dfsIter(binary_image,i,j)"
   ]
  },
  {
   "cell_type": "code",
   "execution_count": 19,
   "id": "5d87efc4-3512-40a9-a85f-2ee42846b3a2",
   "metadata": {},
   "outputs": [
    {
     "name": "stdout",
     "output_type": "stream",
     "text": [
      "Number of square images is:  11\n"
     ]
    },
    {
     "data": {
      "image/png": "[encoded data removed]",
      "text/plain": [
       "<Figure size 432x288 with 1 Axes>"
      ]
     },
     "metadata": {
      "needs_background": "light"
     },
     "output_type": "display_data"
    }
   ],
   "source": [
    "plt.imshow(adjMatrix,cmap='gray')\n",
    "print(\"Number of square images is: \",count_Sq)"
   ]
  },
  {
   "cell_type": "code",
   "execution_count": 20,
   "id": "1318b71f-cf58-4058-942f-1db09409104f",
   "metadata": {},
   "outputs": [
    {
     "data": {
      "text/plain": [
       "<matplotlib.image.AxesImage at 0x7f25fc4fd320>"
      ]
     },
     "execution_count": 20,
     "metadata": {},
     "output_type": "execute_result"
    },
    {
     "data": {
      "image/png": "[encoded data removed]",
      "text/plain": [
       "<Figure size 432x288 with 1 Axes>"
      ]
     },
     "metadata": {
      "needs_background": "light"
     },
     "output_type": "display_data"
    }
   ],
   "source": [
    "squareholeObj = np.logical_and(adjMatrix,onlyHoleFig)\n",
    "plt.imshow(squareholeObj,cmap='gray')"
   ]
  },
  {
   "cell_type": "code",
   "execution_count": 21,
   "id": "3f48c7ab-c699-4b57-8142-08f0e3940328",
   "metadata": {},
   "outputs": [
    {
     "data": {
      "text/plain": [
       "<matplotlib.image.AxesImage at 0x7f25fc45ae48>"
      ]
     },
     "execution_count": 21,
     "metadata": {},
     "output_type": "execute_result"
    },
    {
     "data": {
      "image/png": "[encoded data removed]",
      "text/plain": [
       "<Figure size 432x288 with 1 Axes>"
      ]
     },
     "metadata": {
      "needs_background": "light"
     },
     "output_type": "display_data"
    }
   ],
   "source": [
    "circleObjs = binary_image - adjMatrix\n",
    "plt.imshow(circleObjs,cmap='gray')"
   ]
  },
  {
   "cell_type": "code",
   "execution_count": 22,
   "id": "17d7f3bc-0d2c-4312-9bc2-cea65370a140",
   "metadata": {},
   "outputs": [
    {
     "data": {
      "text/plain": [
       "<matplotlib.image.AxesImage at 0x7f25fc43eba8>"
      ]
     },
     "execution_count": 22,
     "metadata": {},
     "output_type": "execute_result"
    },
    {
     "data": {
      "image/png": "[encoded data removed]",
      "text/plain": [
       "<Figure size 432x288 with 1 Axes>"
      ]
     },
     "metadata": {
      "needs_background": "light"
     },
     "output_type": "display_data"
    }
   ],
   "source": [
    "circleHole = np.logical_and(onlyHoleFig,circleObjs)\n",
    "circleNoHole = circleObjs - circleHole\n",
    "plt.imshow(circleNoHole,cmap='gray')"
   ]
  }
 ],
 "metadata": {
  "kernelspec": {
   "display_name": "DIP",
   "language": "python",
   "name": "dip"
  },
  "language_info": {
   "codemirror_mode": {
    "name": "ipython",
    "version": 3
   },
   "file_extension": ".py",
   "mimetype": "text/x-python",
   "name": "python",
   "nbconvert_exporter": "python",
   "pygments_lexer": "ipython3",
   "version": "3.6.9"
  }
 },
 "nbformat": 4,
 "nbformat_minor": 5
}
